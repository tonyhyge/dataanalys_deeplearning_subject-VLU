{
  "cells": [
    {
      "cell_type": "code",
      "execution_count": 23,
      "metadata": {
        "colab": {
          "base_uri": "https://localhost:8080/"
        },
        "id": "ud8rdsB0IZo1",
        "outputId": "a16bf775-a8c0-4d39-d8ef-f3ac11eee5f4"
      },
      "outputs": [
        {
          "name": "stdout",
          "output_type": "stream",
          "text": [
            "<class 'pandas.core.frame.DataFrame'>\n",
            "RangeIndex: 11 entries, 0 to 10\n",
            "Data columns (total 7 columns):\n",
            " #   Column       Non-Null Count  Dtype  \n",
            "---  ------       --------------  -----  \n",
            " 0   customer_id  11 non-null     int64  \n",
            " 1   name         11 non-null     object \n",
            " 2   age          10 non-null     float64\n",
            " 3   gender       11 non-null     object \n",
            " 4   dob          11 non-null     object \n",
            " 5   income       10 non-null     object \n",
            " 6   email        11 non-null     object \n",
            "dtypes: float64(1), int64(1), object(5)\n",
            "memory usage: 744.0+ bytes\n"
          ]
        }
      ],
      "source": [
        "import pandas as pd\n",
        "\n",
        "file_path = \"dirty_data.csv\"\n",
        "df = pd.read_csv(file_path)\n",
        "df.info()"
      ]
    },
    {
      "cell_type": "code",
      "execution_count": 24,
      "metadata": {
        "colab": {
          "base_uri": "https://localhost:8080/"
        },
        "id": "dUcYuXW-JI4J",
        "outputId": "11436824-9fad-4686-a376-81bc8ca985dd"
      },
      "outputs": [
        {
          "data": {
            "text/plain": [
              "customer_id    0\n",
              "name           0\n",
              "age            1\n",
              "gender         0\n",
              "dob            0\n",
              "income         1\n",
              "email          0\n",
              "dtype: int64"
            ]
          },
          "execution_count": 24,
          "metadata": {},
          "output_type": "execute_result"
        }
      ],
      "source": [
        "miss_val = df.isnull().sum()\n",
        "miss_val"
      ]
    },
    {
      "cell_type": "code",
      "execution_count": 25,
      "metadata": {
        "colab": {
          "base_uri": "https://localhost:8080/",
          "height": 468
        },
        "id": "OuXeHhDWJP3U",
        "outputId": "3cbab31a-b978-479e-eb14-64257aa02800"
      },
      "outputs": [
        {
          "name": "stderr",
          "output_type": "stream",
          "text": [
            "/var/folders/8_/fl08gppj6q30h3nrwn1kc9140000gn/T/ipykernel_2913/1664185433.py:2: FutureWarning: A value is trying to be set on a copy of a DataFrame or Series through chained assignment using an inplace method.\n",
            "The behavior will change in pandas 3.0. This inplace method will never work because the intermediate object on which we are setting values always behaves as a copy.\n",
            "\n",
            "For example, when doing 'df[col].method(value, inplace=True)', try using 'df.method({col: value}, inplace=True)' or df[col] = df[col].method(value) instead, to perform the operation inplace on the original object.\n",
            "\n",
            "\n",
            "  df['age'].fillna(df['age'].median(), inplace=True)\n",
            "/var/folders/8_/fl08gppj6q30h3nrwn1kc9140000gn/T/ipykernel_2913/1664185433.py:3: FutureWarning: A value is trying to be set on a copy of a DataFrame or Series through chained assignment using an inplace method.\n",
            "The behavior will change in pandas 3.0. This inplace method will never work because the intermediate object on which we are setting values always behaves as a copy.\n",
            "\n",
            "For example, when doing 'df[col].method(value, inplace=True)', try using 'df.method({col: value}, inplace=True)' or df[col] = df[col].method(value) instead, to perform the operation inplace on the original object.\n",
            "\n",
            "\n",
            "  df['income'].fillna(df['income'].median(), inplace=True)\n"
          ]
        },
        {
          "data": {
            "text/plain": [
              "<bound method DataFrame.sum of     customer_id   name    age  gender    dob  income  email\n",
              "0         False  False  False   False  False   False  False\n",
              "1         False  False  False   False  False   False  False\n",
              "2         False  False  False   False  False   False  False\n",
              "3         False  False  False   False  False   False  False\n",
              "4         False  False  False   False  False   False  False\n",
              "5         False  False  False   False  False   False  False\n",
              "6         False  False  False   False  False   False  False\n",
              "7         False  False  False   False  False   False  False\n",
              "8         False  False  False   False  False   False  False\n",
              "9         False  False  False   False  False   False  False\n",
              "10        False  False  False   False  False   False  False>"
            ]
          },
          "execution_count": 25,
          "metadata": {},
          "output_type": "execute_result"
        }
      ],
      "source": [
        "df['income'] = pd.to_numeric(df['income'], errors='coerce')\n",
        "df['age'].fillna(df['age'].median(), inplace=True)\n",
        "df['income'].fillna(df['income'].median(), inplace=True)\n",
        "\n",
        "df.isnull().sum"
      ]
    },
    {
      "cell_type": "code",
      "execution_count": 26,
      "metadata": {},
      "outputs": [
        {
          "name": "stdout",
          "output_type": "stream",
          "text": [
            "    customer_id    age   gender         dob  income          email  \\\n",
            "0           101   25.0     Male  1998-05-22  1200.0  a@example.com   \n",
            "1           102   42.0   Female  1981-07-14  4500.0  b@example.com   \n",
            "2           103   -5.0     male  12/03/1995  3200.0  c@example.com   \n",
            "3           104  150.0        F  1980/08/25  -500.0  d@example.com   \n",
            "4           105   30.0      Fem  1993-09-30  3800.0  e@example.com   \n",
            "5           106   28.0        M  1996-11-02  2500.0  f@example.com   \n",
            "6           107   29.0   Female  1994/06/15  3800.0  g@example.com   \n",
            "7           108   40.0        f  1990-01-29  4200.0  h@example.com   \n",
            "8           109   27.0     Male  1995-04-10  3900.0  i@example.com   \n",
            "9           110   22.0  unknown  1999-12-20  3800.0  j@example.com   \n",
            "10          110   22.0     Male  1999-12-20  3900.0  j@example.com   \n",
            "\n",
            "     firstname lastname  \n",
            "0   Nguyen Van        A  \n",
            "1     Tran Thi        B  \n",
            "2       Le Van        C  \n",
            "3   Hoang Minh        D  \n",
            "4     Pham Thi        E  \n",
            "5   Nguyen Van        F  \n",
            "6      Bui Thi        G  \n",
            "7     Dang Van        H  \n",
            "8       Vo Thi        I  \n",
            "9     Phan Van        J  \n",
            "10    Phan Van        J  \n"
          ]
        }
      ],
      "source": [
        "df[['firstname', 'lastname']] = df['name'].str.rsplit(n=1, expand=True)\n",
        "\n",
        "# Xóa cột \"Name\" nếu không cần thiết\n",
        "df.drop(columns=['name'], inplace=True)\n",
        "\n",
        "# Hiển thị kết quả\n",
        "print(df)"
      ]
    },
    {
      "cell_type": "code",
      "execution_count": 27,
      "metadata": {
        "colab": {
          "base_uri": "https://localhost:8080/",
          "height": 300
        },
        "id": "8d5PDa9GJnKi",
        "outputId": "5bb96592-b071-494b-a433-91fe1451fb45"
      },
      "outputs": [
        {
          "data": {
            "text/html": [
              "<div>\n",
              "<style scoped>\n",
              "    .dataframe tbody tr th:only-of-type {\n",
              "        vertical-align: middle;\n",
              "    }\n",
              "\n",
              "    .dataframe tbody tr th {\n",
              "        vertical-align: top;\n",
              "    }\n",
              "\n",
              "    .dataframe thead th {\n",
              "        text-align: right;\n",
              "    }\n",
              "</style>\n",
              "<table border=\"1\" class=\"dataframe\">\n",
              "  <thead>\n",
              "    <tr style=\"text-align: right;\">\n",
              "      <th></th>\n",
              "      <th>age</th>\n",
              "      <th>income</th>\n",
              "    </tr>\n",
              "  </thead>\n",
              "  <tbody>\n",
              "    <tr>\n",
              "      <th>count</th>\n",
              "      <td>9.000000</td>\n",
              "      <td>9.000000</td>\n",
              "    </tr>\n",
              "    <tr>\n",
              "      <th>mean</th>\n",
              "      <td>29.444444</td>\n",
              "      <td>3511.111111</td>\n",
              "    </tr>\n",
              "    <tr>\n",
              "      <th>std</th>\n",
              "      <td>7.143373</td>\n",
              "      <td>1022.795733</td>\n",
              "    </tr>\n",
              "    <tr>\n",
              "      <th>min</th>\n",
              "      <td>22.000000</td>\n",
              "      <td>1200.000000</td>\n",
              "    </tr>\n",
              "    <tr>\n",
              "      <th>25%</th>\n",
              "      <td>25.000000</td>\n",
              "      <td>3800.000000</td>\n",
              "    </tr>\n",
              "    <tr>\n",
              "      <th>50%</th>\n",
              "      <td>28.000000</td>\n",
              "      <td>3800.000000</td>\n",
              "    </tr>\n",
              "    <tr>\n",
              "      <th>75%</th>\n",
              "      <td>30.000000</td>\n",
              "      <td>3900.000000</td>\n",
              "    </tr>\n",
              "    <tr>\n",
              "      <th>max</th>\n",
              "      <td>42.000000</td>\n",
              "      <td>4500.000000</td>\n",
              "    </tr>\n",
              "  </tbody>\n",
              "</table>\n",
              "</div>"
            ],
            "text/plain": [
              "             age       income\n",
              "count   9.000000     9.000000\n",
              "mean   29.444444  3511.111111\n",
              "std     7.143373  1022.795733\n",
              "min    22.000000  1200.000000\n",
              "25%    25.000000  3800.000000\n",
              "50%    28.000000  3800.000000\n",
              "75%    30.000000  3900.000000\n",
              "max    42.000000  4500.000000"
            ]
          },
          "execution_count": 27,
          "metadata": {},
          "output_type": "execute_result"
        }
      ],
      "source": [
        "df = df[(df['age'] >= 0) & (df['age'] <= 100)]\n",
        "df = df[df['income'] >= 0]\n",
        "\n",
        "df[['age', 'income']].describe()"
      ]
    },
    {
      "cell_type": "code",
      "execution_count": 28,
      "metadata": {
        "colab": {
          "base_uri": "https://localhost:8080/",
          "height": 206
        },
        "id": "GRjCQQPiJqMT",
        "outputId": "5bb5410d-615f-4f4f-fe21-3f95daf35cd3"
      },
      "outputs": [
        {
          "data": {
            "text/html": [
              "<div>\n",
              "<style scoped>\n",
              "    .dataframe tbody tr th:only-of-type {\n",
              "        vertical-align: middle;\n",
              "    }\n",
              "\n",
              "    .dataframe tbody tr th {\n",
              "        vertical-align: top;\n",
              "    }\n",
              "\n",
              "    .dataframe thead th {\n",
              "        text-align: right;\n",
              "    }\n",
              "</style>\n",
              "<table border=\"1\" class=\"dataframe\">\n",
              "  <thead>\n",
              "    <tr style=\"text-align: right;\">\n",
              "      <th></th>\n",
              "      <th>dob</th>\n",
              "      <th>gender</th>\n",
              "    </tr>\n",
              "  </thead>\n",
              "  <tbody>\n",
              "    <tr>\n",
              "      <th>0</th>\n",
              "      <td>1998-05-22</td>\n",
              "      <td>Male</td>\n",
              "    </tr>\n",
              "    <tr>\n",
              "      <th>1</th>\n",
              "      <td>1981-07-14</td>\n",
              "      <td>Female</td>\n",
              "    </tr>\n",
              "    <tr>\n",
              "      <th>4</th>\n",
              "      <td>1993-09-30</td>\n",
              "      <td>Female</td>\n",
              "    </tr>\n",
              "    <tr>\n",
              "      <th>5</th>\n",
              "      <td>1996-11-02</td>\n",
              "      <td>NaN</td>\n",
              "    </tr>\n",
              "    <tr>\n",
              "      <th>6</th>\n",
              "      <td>NaN</td>\n",
              "      <td>Female</td>\n",
              "    </tr>\n",
              "  </tbody>\n",
              "</table>\n",
              "</div>"
            ],
            "text/plain": [
              "          dob  gender\n",
              "0  1998-05-22    Male\n",
              "1  1981-07-14  Female\n",
              "4  1993-09-30  Female\n",
              "5  1996-11-02     NaN\n",
              "6         NaN  Female"
            ]
          },
          "execution_count": 28,
          "metadata": {},
          "output_type": "execute_result"
        }
      ],
      "source": [
        "df['dob'] = pd.to_datetime(df['dob'], errors='coerce').dt.strftime('%Y-%m-%d')\n",
        "\n",
        "df['gender'] = df['gender'].str.lower().map({'male': 'Male', 'female': 'Female', 'f': 'Female', 'fem': 'Female'})\n",
        "\n",
        "df[['dob', 'gender']].head()"
      ]
    },
    {
      "cell_type": "code",
      "execution_count": 29,
      "metadata": {
        "colab": {
          "base_uri": "https://localhost:8080/"
        },
        "id": "KkcW46FSJ5RA",
        "outputId": "a04374a1-cf04-4074-e4f7-0fe059eaa8cf"
      },
      "outputs": [
        {
          "data": {
            "text/plain": [
              "(9, 8)"
            ]
          },
          "execution_count": 29,
          "metadata": {},
          "output_type": "execute_result"
        }
      ],
      "source": [
        "df.drop_duplicates(inplace=True)\n",
        "\n",
        "df.shape"
      ]
    },
    {
      "cell_type": "code",
      "execution_count": 30,
      "metadata": {},
      "outputs": [
        {
          "data": {
            "text/html": [
              "<div>\n",
              "<style scoped>\n",
              "    .dataframe tbody tr th:only-of-type {\n",
              "        vertical-align: middle;\n",
              "    }\n",
              "\n",
              "    .dataframe tbody tr th {\n",
              "        vertical-align: top;\n",
              "    }\n",
              "\n",
              "    .dataframe thead th {\n",
              "        text-align: right;\n",
              "    }\n",
              "</style>\n",
              "<table border=\"1\" class=\"dataframe\">\n",
              "  <thead>\n",
              "    <tr style=\"text-align: right;\">\n",
              "      <th></th>\n",
              "      <th>customer_id</th>\n",
              "      <th>age</th>\n",
              "      <th>gender</th>\n",
              "      <th>dob</th>\n",
              "      <th>income</th>\n",
              "      <th>email</th>\n",
              "      <th>firstname</th>\n",
              "      <th>lastname</th>\n",
              "    </tr>\n",
              "  </thead>\n",
              "  <tbody>\n",
              "    <tr>\n",
              "      <th>0</th>\n",
              "      <td>101</td>\n",
              "      <td>25.0</td>\n",
              "      <td>Male</td>\n",
              "      <td>1998-05-22</td>\n",
              "      <td>1200.0</td>\n",
              "      <td>a@example.com</td>\n",
              "      <td>Nguyen Van</td>\n",
              "      <td>A</td>\n",
              "    </tr>\n",
              "    <tr>\n",
              "      <th>1</th>\n",
              "      <td>102</td>\n",
              "      <td>42.0</td>\n",
              "      <td>Female</td>\n",
              "      <td>1981-07-14</td>\n",
              "      <td>4500.0</td>\n",
              "      <td>b@example.com</td>\n",
              "      <td>Tran Thi</td>\n",
              "      <td>B</td>\n",
              "    </tr>\n",
              "    <tr>\n",
              "      <th>4</th>\n",
              "      <td>105</td>\n",
              "      <td>30.0</td>\n",
              "      <td>Female</td>\n",
              "      <td>1993-09-30</td>\n",
              "      <td>3800.0</td>\n",
              "      <td>e@example.com</td>\n",
              "      <td>Pham Thi</td>\n",
              "      <td>E</td>\n",
              "    </tr>\n",
              "    <tr>\n",
              "      <th>7</th>\n",
              "      <td>108</td>\n",
              "      <td>40.0</td>\n",
              "      <td>Female</td>\n",
              "      <td>1990-01-29</td>\n",
              "      <td>4200.0</td>\n",
              "      <td>h@example.com</td>\n",
              "      <td>Dang Van</td>\n",
              "      <td>H</td>\n",
              "    </tr>\n",
              "    <tr>\n",
              "      <th>8</th>\n",
              "      <td>109</td>\n",
              "      <td>27.0</td>\n",
              "      <td>Male</td>\n",
              "      <td>1995-04-10</td>\n",
              "      <td>3900.0</td>\n",
              "      <td>i@example.com</td>\n",
              "      <td>Vo Thi</td>\n",
              "      <td>I</td>\n",
              "    </tr>\n",
              "    <tr>\n",
              "      <th>10</th>\n",
              "      <td>110</td>\n",
              "      <td>22.0</td>\n",
              "      <td>Male</td>\n",
              "      <td>1999-12-20</td>\n",
              "      <td>3900.0</td>\n",
              "      <td>j@example.com</td>\n",
              "      <td>Phan Van</td>\n",
              "      <td>J</td>\n",
              "    </tr>\n",
              "  </tbody>\n",
              "</table>\n",
              "</div>"
            ],
            "text/plain": [
              "    customer_id   age  gender         dob  income          email   firstname  \\\n",
              "0           101  25.0    Male  1998-05-22  1200.0  a@example.com  Nguyen Van   \n",
              "1           102  42.0  Female  1981-07-14  4500.0  b@example.com    Tran Thi   \n",
              "4           105  30.0  Female  1993-09-30  3800.0  e@example.com    Pham Thi   \n",
              "7           108  40.0  Female  1990-01-29  4200.0  h@example.com    Dang Van   \n",
              "8           109  27.0    Male  1995-04-10  3900.0  i@example.com      Vo Thi   \n",
              "10          110  22.0    Male  1999-12-20  3900.0  j@example.com    Phan Van   \n",
              "\n",
              "   lastname  \n",
              "0         A  \n",
              "1         B  \n",
              "4         E  \n",
              "7         H  \n",
              "8         I  \n",
              "10        J  "
            ]
          },
          "execution_count": 30,
          "metadata": {},
          "output_type": "execute_result"
        }
      ],
      "source": [
        "df.dropna(inplace=True)\n",
        "df"
      ]
    }
  ],
  "metadata": {
    "colab": {
      "provenance": []
    },
    "kernelspec": {
      "display_name": "Python 3",
      "name": "python3"
    },
    "language_info": {
      "codemirror_mode": {
        "name": "ipython",
        "version": 3
      },
      "file_extension": ".py",
      "mimetype": "text/x-python",
      "name": "python",
      "nbconvert_exporter": "python",
      "pygments_lexer": "ipython3",
      "version": "3.10.11"
    }
  },
  "nbformat": 4,
  "nbformat_minor": 0
}
